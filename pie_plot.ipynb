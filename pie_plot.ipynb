{
 "cells": [
  {
   "cell_type": "code",
   "id": "initial_id",
   "metadata": {
    "collapsed": true,
    "ExecuteTime": {
     "end_time": "2024-06-06T06:29:30.864607Z",
     "start_time": "2024-06-06T06:29:30.858630Z"
    }
   },
   "source": [
    "import datetime\n",
    "import meteostat\n",
    "import matplotlib.pyplot as plt"
   ],
   "outputs": [],
   "execution_count": 16
  },
  {
   "metadata": {
    "ExecuteTime": {
     "end_time": "2024-06-06T06:29:33.219334Z",
     "start_time": "2024-06-06T06:29:32.341111Z"
    }
   },
   "cell_type": "code",
   "source": [
    "start = datetime.datetime(2024, 3, 1)\n",
    "end = datetime.datetime(2024, 3, 31)\n",
    "location = meteostat.Point(47.81, 13.04, 424)\n",
    "\n",
    "data = meteostat.Daily(location, start, end).fetch()\n",
    "data[\"has_rained\"] = data[\"prcp\"] > 0\n",
    "\n",
    "plot_data = data[\"has_rained\"].value_counts()\n",
    "plot_data\n"
   ],
   "id": "b536a9aea092b9c9",
   "outputs": [
    {
     "data": {
      "text/plain": [
       "has_rained\n",
       "True     18\n",
       "False    13\n",
       "Name: count, dtype: int64"
      ]
     },
     "execution_count": 17,
     "metadata": {},
     "output_type": "execute_result"
    }
   ],
   "execution_count": 17
  },
  {
   "metadata": {
    "ExecuteTime": {
     "end_time": "2024-06-06T06:29:33.671153Z",
     "start_time": "2024-06-06T06:29:33.515748Z"
    }
   },
   "cell_type": "code",
   "source": [
    "plt.fig, ax = plt.subplots()\n",
    "ax.pie(plot_data)"
   ],
   "id": "e9478770fd2f7dd",
   "outputs": [
    {
     "data": {
      "text/plain": [
       "([<matplotlib.patches.Wedge at 0x24029db51f0>,\n",
       "  <matplotlib.patches.Wedge at 0x24029db8d10>],\n",
       " [Text(-0.2757177275932748, 1.0648848457419238, ''),\n",
       "  Text(0.27571762789155874, -1.0648848715564758, '')])"
      ]
     },
     "execution_count": 18,
     "metadata": {},
     "output_type": "execute_result"
    },
    {
     "data": {
      "text/plain": [
       "<Figure size 640x480 with 1 Axes>"
      ],
      "image/png": "[encoded data removed]"
     },
     "metadata": {},
     "output_type": "display_data"
    }
   ],
   "execution_count": 18
  },
  {
   "metadata": {},
   "cell_type": "markdown",
   "source": "# Fetch Weather Stations in Geographical layer",
   "id": "cd51871ba2299451"
  },
  {
   "metadata": {
    "ExecuteTime": {
     "end_time": "2024-06-06T06:29:35.837808Z",
     "start_time": "2024-06-06T06:29:35.799237Z"
    }
   },
   "cell_type": "code",
   "source": [
    "import geopy\n",
    "bbox = [(47.551090,10.189819), (48.432858,13.037059)]\n",
    "\n"
   ],
   "id": "74b2d79ce016952d",
   "outputs": [
    {
     "ename": "ModuleNotFoundError",
     "evalue": "No module named 'geopy'",
     "output_type": "error",
     "traceback": [
      "\u001B[1;31m---------------------------------------------------------------------------\u001B[0m",
      "\u001B[1;31mModuleNotFoundError\u001B[0m                       Traceback (most recent call last)",
      "Cell \u001B[1;32mIn[19], line 1\u001B[0m\n\u001B[1;32m----> 1\u001B[0m \u001B[38;5;28;01mimport\u001B[39;00m \u001B[38;5;21;01mgeopy\u001B[39;00m\n\u001B[0;32m      2\u001B[0m bbox \u001B[38;5;241m=\u001B[39m [(\u001B[38;5;241m47.551090\u001B[39m,\u001B[38;5;241m10.189819\u001B[39m), (\u001B[38;5;241m48.432858\u001B[39m,\u001B[38;5;241m13.037059\u001B[39m)]\n",
      "\u001B[1;31mModuleNotFoundError\u001B[0m: No module named 'geopy'"
     ]
    }
   ],
   "execution_count": 19
  },
  {
   "metadata": {},
   "cell_type": "code",
   "outputs": [],
   "execution_count": null,
   "source": "",
   "id": "cf40624d3b31b8b"
  }
 ],
 "metadata": {
  "kernelspec": {
   "display_name": "Python 3",
   "language": "python",
   "name": "python3"
  },
  "language_info": {
   "codemirror_mode": {
    "name": "ipython",
    "version": 2
   },
   "file_extension": ".py",
   "mimetype": "text/x-python",
   "name": "python",
   "nbconvert_exporter": "python",
   "pygments_lexer": "ipython2",
   "version": "2.7.6"
  }
 },
 "nbformat": 4,
 "nbformat_minor": 5
}
