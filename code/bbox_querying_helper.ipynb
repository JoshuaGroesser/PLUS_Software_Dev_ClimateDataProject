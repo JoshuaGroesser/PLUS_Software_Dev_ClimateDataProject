{
 "cells": [
  {
   "metadata": {},
   "cell_type": "markdown",
   "source": [
    "## Examples\n",
    "\n",
    "### get_stations_from_bounds"
   ],
   "id": "b121d21d5a5e22a6"
  },
  {
   "metadata": {
    "ExecuteTime": {
     "end_time": "2024-06-20T15:00:22.759202Z",
     "start_time": "2024-06-20T15:00:20.159834Z"
    }
   },
   "cell_type": "code",
   "source": "from bbox_querying_functions import *",
   "id": "ff0e78f77070b9eb",
   "execution_count": 1,
   "outputs": []
  },
  {
   "metadata": {
    "ExecuteTime": {
     "end_time": "2024-06-20T15:00:28.486081Z",
     "start_time": "2024-06-20T15:00:27.577060Z"
    }
   },
   "cell_type": "code",
   "source": [
    "bbox = [(47.219472,11.217041), (48.377410,13.480225)]\n",
    "n_stations = 30\n",
    "\n",
    "# with bounding box [(lat1, lon1), (lat2, lon2)]:\n",
    "df = get_stations_from_bounds(bbox, n_stations, verbose = True)\n",
    "\n",
    "# add bbox center to exported data:\n",
    "df, center = get_stations_from_bounds(bbox, n_stations, verbose = True, export_bbox_center= True)\n",
    "\n",
    "# with Points:\n",
    "from shapely import Point\n",
    "\n",
    "p1, p2 = Point(bbox[0]), Point(bbox[1])\n",
    "get_stations_from_bounds([p1, p2])\n",
    "\n",
    "# with Line data:\n",
    "from shapely import LineString\n",
    "\n",
    "ls = LineString([p1, p2])\n",
    "get_stations_from_bounds(ls)\n",
    "\n",
    "# with polygon data:\n",
    "from shapely import box\n",
    "\n",
    "poly = (box(p1.x, p1.y, p2.x, p2.y))\n",
    "get_stations_from_bounds(poly)"
   ],
   "id": "463079b2dcaa416a",
   "execution_count": 2,
   "outputs": []
  },
  {
   "metadata": {},
   "cell_type": "markdown",
   "source": "### get_longest_station_record",
   "id": "476cdf1ffc72b83b"
  },
  {
   "metadata": {
    "ExecuteTime": {
     "end_time": "2024-06-20T15:00:38.302065Z",
     "start_time": "2024-06-20T15:00:38.229587Z"
    }
   },
   "cell_type": "code",
   "source": "get_longest_station_record(bbox, n_stations, verbose=True)",
   "id": "fbc61b2af1ad62c9",
   "execution_count": 3,
   "outputs": []
  },
  {
   "metadata": {},
   "cell_type": "markdown",
   "source": "### find_consensus_period",
   "id": "b75b6b0cf846b90f"
  },
  {
   "metadata": {
    "ExecuteTime": {
     "end_time": "2024-06-20T15:00:39.800474Z",
     "start_time": "2024-06-20T15:00:39.740535Z"
    }
   },
   "cell_type": "code",
   "source": "start, end = find_consensus_period(bbox, n_stations, verbose=True)",
   "id": "a89d0682fe3b6b42",
   "execution_count": 4,
   "outputs": []
  },
  {
   "metadata": {},
   "cell_type": "markdown",
   "source": "###  find_most_representative_station",
   "id": "ace1313a6ac61e3"
  },
  {
   "metadata": {
    "ExecuteTime": {
     "end_time": "2024-06-20T15:00:43.631784Z",
     "start_time": "2024-06-20T15:00:40.904245Z"
    }
   },
   "cell_type": "code",
   "source": [
    "data_to_compare = \"prcp\"\n",
    "find_most_representative_station(bbox, n_stations, data_to_compare, verbose=True)"
   ],
   "id": "6dac6d2dd6cc7aed",
   "execution_count": 5,
   "outputs": []
  }
 ],
 "metadata": {
  "kernelspec": {
   "display_name": "Python 3",
   "language": "python",
   "name": "python3"
  },
  "language_info": {
   "codemirror_mode": {
    "name": "ipython",
    "version": 2
   },
   "file_extension": ".py",
   "mimetype": "text/x-python",
   "name": "python",
   "nbconvert_exporter": "python",
   "pygments_lexer": "ipython2",
   "version": "2.7.6"
  }
 },
 "nbformat": 4,
 "nbformat_minor": 5
}
